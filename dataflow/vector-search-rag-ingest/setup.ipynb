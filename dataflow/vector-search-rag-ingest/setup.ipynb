{
 "cells": [
  {
   "cell_type": "markdown",
   "id": "29dcb758-0d69-4013-868e-02730650d2ab",
   "metadata": {},
   "source": [
    "## Setup \n",
    "\n",
    "Run this notebook to create and build the Dataflow Flex template."
   ]
  },
  {
   "cell_type": "code",
   "execution_count": null,
   "id": "15d72f8f-83d5-4c8c-b251-83fcbac1bc21",
   "metadata": {
    "tags": []
   },
   "outputs": [],
   "source": [
    "from datetime import datetime"
   ]
  },
  {
   "cell_type": "code",
   "execution_count": null,
   "id": "0dd805d7-db55-457c-bf6b-5be88258e738",
   "metadata": {
    "tags": []
   },
   "outputs": [],
   "source": [
    "ARTIFACT_REPO = \"dataflow-templates\" \n",
    "REGION = \"us-central1\" \n",
    "PROJECT = !(gcloud config get-value core/project)\n",
    "PROJECT = PROJECT[0]\n",
    "STAGING_BUCKET = f\"{PROJECT}-dataflow-templates\"\n",
    "\n",
    "%env REGION={REGION}\n",
    "%env ARTIFACT_REPO={ARTIFACT_REPO}\n",
    "%env PROJECT={PROJECT}\n",
    "%env STAGING_BUCKET={STAGING_BUCKET}"
   ]
  },
  {
   "cell_type": "markdown",
   "id": "83357183-114a-4d71-8553-95c458f8afcb",
   "metadata": {},
   "source": [
    "Create bucket"
   ]
  },
  {
   "cell_type": "code",
   "execution_count": null,
   "id": "ade646c4-3e12-449f-8e47-a41e9f0feaa4",
   "metadata": {
    "tags": []
   },
   "outputs": [],
   "source": [
    "!gsutil mb -l {REGION} gs://{STAGING_BUCKET}"
   ]
  },
  {
   "cell_type": "markdown",
   "id": "58e26351-7864-4e84-a83d-6e0fb7f6fe59",
   "metadata": {},
   "source": [
    "Create artifact registry repo"
   ]
  },
  {
   "cell_type": "code",
   "execution_count": null,
   "id": "58138f16-d0ab-4e2f-99be-5712d754f713",
   "metadata": {
    "tags": []
   },
   "outputs": [],
   "source": [
    "!gcloud artifacts repositories create {ARTIFACT_REPO} \\\n",
    " --repository-format=docker \\\n",
    " --location={REGION}"
   ]
  },
  {
   "cell_type": "markdown",
   "id": "3ed8ee2d-3348-41da-b8fe-c81ff38ecf12",
   "metadata": {},
   "source": [
    "Build the flex template"
   ]
  },
  {
   "cell_type": "code",
   "execution_count": null,
   "id": "6f8d9fa2-58ba-4a12-9f3f-4f796d490e41",
   "metadata": {
    "tags": []
   },
   "outputs": [],
   "source": [
    "TAG=datetime.now().strftime(\"%Y%m%d-%H%M%S\")\n",
    "TEMPLATE_FILE = f\"gs://{STAGING_BUCKET}/pdf-to-vertex-{TAG}.json\"\n",
    "IMAGE_URI = f\"{REGION}-docker.pkg.dev/{PROJECT}/{ARTIFACT_REPO}/pdf-vector-search-pipeline:{TAG}\""
   ]
  },
  {
   "cell_type": "code",
   "execution_count": null,
   "id": "bb466209-037d-429c-9714-2198f794eeb0",
   "metadata": {
    "scrolled": true,
    "tags": []
   },
   "outputs": [],
   "source": [
    "!gcloud dataflow flex-template build {TEMPLATE_FILE} \\\n",
    "    --image-gcr-path {IMAGE_URI} \\\n",
    "    --sdk-language \"PYTHON\" \\\n",
    "    --flex-template-base-image \"PYTHON3\" \\\n",
    "    --py-path \".\" \\\n",
    "    --metadata-file \"metadata.json\" \\\n",
    "    --env \"FLEX_TEMPLATE_PYTHON_PY_FILE=main.py\" \\\n",
    "    --env \"FLEX_TEMPLATE_PYTHON_REQUIREMENTS_FILE=requirements.txt\""
   ]
  },
  {
   "cell_type": "code",
   "execution_count": null,
   "id": "c69a92a9-4c98-46e9-9aec-42823b7fb320",
   "metadata": {},
   "outputs": [],
   "source": [
    "print(TEMPLATE_FILE)"
   ]
  },
  {
   "cell_type": "code",
   "execution_count": null,
   "id": "f9993b5c-40b3-40a6-bd8c-3f992ca718c6",
   "metadata": {},
   "outputs": [],
   "source": []
  }
 ],
 "metadata": {
  "environment": {
   "kernel": "conda-base-py",
   "name": "workbench-notebooks.m122",
   "type": "gcloud",
   "uri": "us-docker.pkg.dev/deeplearning-platform-release/gcr.io/workbench-notebooks:m122"
  },
  "kernelspec": {
   "display_name": "Python 3 (ipykernel) (Local)",
   "language": "python",
   "name": "conda-base-py"
  },
  "language_info": {
   "codemirror_mode": {
    "name": "ipython",
    "version": 3
   },
   "file_extension": ".py",
   "mimetype": "text/x-python",
   "name": "python",
   "nbconvert_exporter": "python",
   "pygments_lexer": "ipython3",
   "version": "3.10.14"
  }
 },
 "nbformat": 4,
 "nbformat_minor": 5
}
